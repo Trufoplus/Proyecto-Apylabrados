{
 "cells": [
  {
   "cell_type": "markdown",
   "metadata": {},
   "source": [
    "### Crea la bolsa de fichas"
   ]
  },
  {
   "cell_type": "code",
   "execution_count": 1,
   "metadata": {},
   "outputs": [],
   "source": [
    "from ApylabradosModule import Pawns\n",
    "\n",
    "bag_of_pawns = Pawns()\n",
    "bag_of_pawns.createBag()"
   ]
  },
  {
   "cell_type": "markdown",
   "metadata": {},
   "source": [
    "### Crea las fichas del jugador "
   ]
  },
  {
   "cell_type": "code",
   "execution_count": 2,
   "metadata": {},
   "outputs": [],
   "source": [
    "player_pawns = Pawns()"
   ]
  },
  {
   "cell_type": "markdown",
   "metadata": {},
   "source": [
    "### Crea el tablero"
   ]
  },
  {
   "cell_type": "code",
   "execution_count": 3,
   "metadata": {},
   "outputs": [
    {
     "data": {
      "image/png": "[encoded data removed]",
      "text/plain": [
       "<Figure size 640x480 with 1 Axes>"
      ]
     },
     "metadata": {},
     "output_type": "display_data"
    }
   ],
   "source": [
    "from ApylabradosModule import Board\n",
    "\n",
    "#Crea el tablero del juego\n",
    "board = Board()\n",
    "board.showBoard()"
   ]
  },
  {
   "cell_type": "markdown",
   "metadata": {},
   "source": [
    "### Inicializar la variable score de la clase Board a 0"
   ]
  },
  {
   "cell_type": "code",
   "execution_count": 4,
   "metadata": {},
   "outputs": [
    {
     "name": "stdout",
     "output_type": "stream",
     "text": [
      "\n",
      "Puntuación: 0\n",
      "\n"
     ]
    }
   ],
   "source": [
    "print(f\"\\nPuntuación: {board.score}\\n\")"
   ]
  },
  {
   "cell_type": "markdown",
   "metadata": {},
   "source": [
    "### Da la bienvenida"
   ]
  },
  {
   "cell_type": "code",
   "execution_count": 5,
   "metadata": {},
   "outputs": [
    {
     "name": "stdout",
     "output_type": "stream",
     "text": [
      "Bienvenidos/as al mejor juego de apalabras jamas creado, enteramente con Python!!! \n",
      "Espero que lo disfrutes.\n"
     ]
    }
   ],
   "source": [
    "board.welcome()"
   ]
  },
  {
   "cell_type": "markdown",
   "metadata": {},
   "source": [
    "### Instrucciones del juego"
   ]
  },
  {
   "cell_type": "code",
   "execution_count": 6,
   "metadata": {},
   "outputs": [
    {
     "name": "stdout",
     "output_type": "stream",
     "text": [
      "Instrucciones para Jugar Apylabrados\n",
      "\n",
      "1. Objetivo del Juego:\n",
      "   - El objetivo es obtener la maxima puntuacion posible al colocar palabras en el tablero.\n",
      "\n",
      "2. Tablero de Juego:\n",
      "   - El tablero tiene 15 filas por 15 columnas, con un total de 225 casillas que pueden contener letras o estar vacias.\n",
      "\n",
      "3. Colocacion de la Primera Palabra:\n",
      "   - La primera palabra debe colocarse de manera que al menos una ficha este en la casilla central del tablero.\n",
      "\n",
      "4. Fichas Disponibles:\n",
      "   - Se disponen de 100 fichas, de las cuales se seleccionan aleatoriamente 7 al comienzo del juego.\n",
      "\n",
      "5. Turno del Jugador:\n",
      "   - En cada turno, se mostraran al jugador las 7 fichas disponibles para formar una nueva palabra y colocarla en el tablero.\n",
      "\n",
      "6. Colocacion de Palabras:\n",
      "   - Para colocar una palabra, el jugador indica la fila y columna donde se ubicara la primera ficha de la palabra, y su direccion (vertical u horizontal).\n",
      "\n",
      "7. Verificacion de la Palabra:\n",
      "   - El programa verifica que la palabra exista en un diccionario, que quepa en el tablero sin exceder los limites, que anada al menos una nueva ficha al tablero, y que no sobreescriba fichas existentes.\n",
      "\n",
      "8. Puntuacion y Nuevas Fichas:\n",
      "   - Tras colocar una palabra, se proporcionan nuevas fichas al jugador para volver a tener un total de 7. Se muestra la puntuacion actualizada.\n",
      "\n",
      "9. Ayuda del Programa:\n",
      "   - El usuario puede solicitar ayuda para encontrar posiciones disponibles para una palabra o para formar palabras con las fichas disponibles.\n",
      "\n",
      "Que disfrutes jugando a Apylabrados!\n",
      "\n",
      "\n"
     ]
    }
   ],
   "source": [
    "board.instructions()"
   ]
  },
  {
   "cell_type": "markdown",
   "metadata": {},
   "source": [
    "### Reparte 7 fichas al jugador y muéstraselas"
   ]
  },
  {
   "cell_type": "code",
   "execution_count": 7,
   "metadata": {},
   "outputs": [
    {
     "name": "stdout",
     "output_type": "stream",
     "text": [
      "\n",
      "Tus Fichas: \n",
      "A: 2\n",
      "G: 1\n",
      "I: 1\n",
      "S: 1\n",
      "T: 2\n"
     ]
    }
   ],
   "source": [
    "def deal_pawns():\n",
    "    \"\"\"\n",
    "    Agarra fichas de la bolsa hasta tener las 7\n",
    "    \"\"\"\n",
    "    #calcula las fichas que te faltan\n",
    "    missing_pawns = 7 - len(player_pawns.letters)\n",
    "    #Agarra fichas aleatorias de la bolsa\n",
    "    for pawn in range(missing_pawns):\n",
    "        player_pawn = bag_of_pawns.takeRandomPawn().upper()\n",
    "        player_pawns.addPawn(player_pawn)\n",
    "\n",
    "\n",
    "\n",
    "# Genera y guarda tus fichas\n",
    "deal_pawns()\n",
    "\n",
    "print(\"\\nTus Fichas: \")\n",
    "show_player_pawns = player_pawns.showPawns() "
   ]
  },
  {
   "cell_type": "markdown",
   "metadata": {},
   "source": [
    "### Ofrece ayuda con las palabras que puede formar o permite al usuario introducir palabra"
   ]
  },
  {
   "cell_type": "code",
   "execution_count": 8,
   "metadata": {},
   "outputs": [
    {
     "name": "stdout",
     "output_type": "stream",
     "text": [
      "\n",
      "Buscando palabras el proceso puede tardar unos segundos...\n",
      "----------------------------------------\n",
      "GAS\n",
      "GIS\n",
      "AIA\n",
      "ATA\n",
      "ASA\n",
      "ITA\n",
      "ISA\n",
      "TAS\n",
      "GATA\n",
      "GASA\n",
      "AISA\n",
      "ASTA\n",
      "TASA\n",
      "TASI\n",
      "TATA\n",
      "SAGA\n",
      "GAITA\n",
      "GATAS\n",
      "TAIGA\n",
      "TAITA\n",
      "TATAS\n",
      "SAGITA\n",
      "\n",
      "¡Palabra válida ingresada!\n",
      "\n"
     ]
    }
   ],
   "source": [
    "from ApylabradosModule import Word, Dictionary, FrecuencyTable\n",
    "\n",
    "\n",
    "\n",
    "def insert_word():\n",
    "    \"\"\"\n",
    "    Inserta y devuelve una palabra valida\n",
    "    \"\"\"\n",
    "    while True:\n",
    "        msg = \"Selecciona una opcion:\\n1 para introducir una palabra\\n2 para ver sugerencias\\n3 Descartar tus fichas y robar nuevas\\n4 para salir\"\n",
    "        select = input(msg)\n",
    "        \n",
    "        if select == \"1\":\n",
    "            my_word = Word.readWord()\n",
    "            if Dictionary.validateWord(my_word):\n",
    "                print(\"\\n¡Palabra válida ingresada!\\n\")\n",
    "                return my_word\n",
    "            else:\n",
    "                print(\"\\nERROR: La palabra ingresada no es válida o no existe\\n\")\n",
    "                \n",
    "        elif select == \"2\":\n",
    "            print(\"\\nBuscando palabras el proceso puede tardar unos segundos...\")\n",
    "            print(\"-\" * 40)\n",
    "            combinations = Dictionary.showWord(player_pawns)\n",
    "            if combinations == False:\n",
    "                # Si no hay combinaciones posible roba nuevas fichas\n",
    "                for letter in player_pawns.letters:\n",
    "                    bag_of_pawns.addPawn(letter)\n",
    "                    player_pawns.letters.remove(letter)\n",
    "                print(\"\\nTus fichas nuevas:\")\n",
    "                deal_pawns()\n",
    "                \n",
    "        elif select == \"3\":\n",
    "            # En caso de tus combinaciones de fichas no tenga una letra que coincida\n",
    "            # con las fichas en el tablero, puedes soliciatar nuevas fichas\n",
    "            for letter in player_pawns.letters:\n",
    "                bag_of_pawns.addPawn(letter)\n",
    "                player_pawns.letters.remove(letter)\n",
    "            print(\"\\nTus fichas nuevas:\")\n",
    "            deal_pawns()  \n",
    "             \n",
    "        elif select == \"4\":\n",
    "            break\n",
    "                \n",
    "        else:\n",
    "            print(\"\\nERROR: Por favor, elige una opción válida\\n\")\n",
    "\n",
    "\n",
    "\n",
    "# Inserta y guarda una palabra valida\n",
    "my_word = insert_word()"
   ]
  },
  {
   "cell_type": "markdown",
   "metadata": {},
   "source": [
    "### Introduce la ubicacion de la palabra o solicita ayuda para colocarla"
   ]
  },
  {
   "cell_type": "code",
   "execution_count": 9,
   "metadata": {},
   "outputs": [
    {
     "name": "stdout",
     "output_type": "stream",
     "text": [
      "\n",
      "Direcciones permitidas para colocar en el tablero: \n",
      "·Vertical:3, Horizontal:7, Direction:'V'\n",
      "·Vertical:4, Horizontal:7, Direction:'V'\n",
      "·Vertical:5, Horizontal:7, Direction:'V'\n",
      "·Vertical:6, Horizontal:7, Direction:'V'\n",
      "·Vertical:7, Horizontal:7, Direction:'V'\n",
      "·Vertical:7, Horizontal:3, Direction:'H'\n",
      "·Vertical:7, Horizontal:4, Direction:'H'\n",
      "·Vertical:7, Horizontal:5, Direction:'H'\n",
      "·Vertical:7, Horizontal:6, Direction:'H'\n",
      "·Vertical:7, Horizontal:7, Direction:'H'\n",
      "\n",
      "¡Opcion válida ingresada!\n",
      "\n"
     ]
    }
   ],
   "source": [
    "\n",
    "def wordLocation(board, player_pawns, my_word):\n",
    "    \"\"\"\n",
    "    Introduce las coordenadas en el tablero\n",
    "    \"\"\"\n",
    "    while True:\n",
    "        select = input(\"Selecciona:\\n1 - Para introducir las coordenadas de la palabra\\n2 - Solicita ayuda\\n3 - Para salir\")\n",
    "        \n",
    "        if select == \"1\":\n",
    "            # Ubicacion de la palabra (eje X, eje Y, direccion de la palabra)\n",
    "            while True:\n",
    "                x_coordenates = int(input(\"Coordenada del eje vertical para colocar la primera letra:\"))\n",
    "                if x_coordenates > 14:\n",
    "                    print('\\nERROR: introduce una cordenada entre el 0 o el 14')\n",
    "                else:\n",
    "                    break\n",
    "\n",
    "            while True:\n",
    "                y_coordenates = int(input(\"Coordenadas del eje horizontal para colocar la primera letra: \"))\n",
    "                if y_coordenates > 14:\n",
    "                    print('\\nERROR: introduce una cordenada entre el 0 o el 14')\n",
    "                else:\n",
    "                    break\n",
    "\n",
    "            while True:\n",
    "                my_direction = input(\"Direccion de la palabra 'V' (vertical) o 'H' (Horizontal):\").upper()\n",
    "                if my_direction not in 'VH':\n",
    "                    print('\\nERROR: introduce V para vertical o H para horizontal')\n",
    "                else:\n",
    "                    break\n",
    "            print(\"\\n¡Opcion válida ingresada!\\n\")    \n",
    "            return x_coordenates, y_coordenates, my_direction  \n",
    "                \n",
    "        elif select == \"2\":\n",
    "            # MUESTRA LAS DIRECCIONES POSIBLES PARA COLOCAR LA PALABRA EN EL TABLERO\n",
    "            # SI LA PALABRA NO SE PUDE COLOCAR SOLICITA UNA NUEVA\n",
    "            if not board.showWordPlacement(player_pawns, my_word.word[0]):\n",
    "                my_word = insert_word()\n",
    "\n",
    "        elif select == \"3\":\n",
    "            break\n",
    "        \n",
    "        else:\n",
    "            print(\"\\nERROR: Opcion invalida, por favor seleccione una opcion valida.\")\n",
    "\n",
    "\n",
    "\n",
    "# inserta coordenadas\n",
    "x_coordenates, y_coordenates, my_direction = wordLocation(board, player_pawns, my_word)\n",
    "\n"
   ]
  },
  {
   "cell_type": "markdown",
   "metadata": {},
   "source": [
    "### Comprueba que se cumplen las normas para ubicar la palabra en el tablero"
   ]
  },
  {
   "cell_type": "code",
   "execution_count": 10,
   "metadata": {},
   "outputs": [
    {
     "name": "stdout",
     "output_type": "stream",
     "text": [
      "\n",
      "PUNTOS: 6\n",
      "\n"
     ]
    },
    {
     "data": {
      "image/png": "[encoded data removed]",
      "text/plain": [
       "<Figure size 640x480 with 1 Axes>"
      ]
     },
     "metadata": {},
     "output_type": "display_data"
    }
   ],
   "source": [
    "\n",
    "def validation_coordenates(x_coordenates, y_coordenates, my_direction):\n",
    "    ###############################################################################\n",
    "    # Valida que el jugador tiene las fichas necesarias para formar la palabra.\n",
    "    # Y que se cumple las reglas para colocar las coordenadas introducidas\n",
    "    # por el jugador.\n",
    "    ###############################################################################\n",
    "    missing_pawns = board.getPawns(\n",
    "                                word=my_word.word[0],\n",
    "                                cord_x= x_coordenates,\n",
    "                                cord_y=y_coordenates,\n",
    "                                direction=my_direction\n",
    "                                )\n",
    "\n",
    "    \n",
    "    if not FrecuencyTable.isSubset(missing_pawns.word, player_pawns.letters):\n",
    "        t_missing_pawn = '\\nERROR: Te faltan fichas para completar tu palabra en el tablero'\n",
    "        print(t_missing_pawn)\n",
    "        return False\n",
    "\n",
    "\n",
    "    ###############################################################################\n",
    "    # Verifica que se cumple las reglas del juego\n",
    "    ###############################################################################\n",
    "    check_rules = board.isPossible(word = Pawns.getTotalPawns(my_word), \n",
    "                                    cord_x = x_coordenates, \n",
    "                                    cord_y = y_coordenates, \n",
    "                                    direction = my_direction)\n",
    "\n",
    "    # Si cumple con las reglas dibuja la palabra en el tablero\n",
    "    if check_rules[0] == True:\n",
    "        #Colaca la palabra en el tablero\n",
    "        board.placeWord(player_pawns = player_pawns,\n",
    "                    place_word = Pawns.getTotalPawns(my_word),\n",
    "                    cord_x = x_coordenates, \n",
    "                    cord_y = y_coordenates, \n",
    "                    direction = my_direction)\n",
    "        return True\n",
    "\n",
    "    #Si no cumple no muestra la palabra en el juego    \n",
    "    else:\n",
    "        print(check_rules[1])\n",
    "        return False\n",
    "\n",
    "\n",
    "\n",
    "if validation_coordenates(x_coordenates, y_coordenates, my_direction):\n",
    "    # Elimina las letras de la palabra introducida en el tablero de tu mano\n",
    "    for letter in my_word.word[0]:\n",
    "        player_pawns.letters.remove(letter)\n",
    "    print(f\"\\nPUNTOS: {board.score}\\n\")\n",
    "    board.showBoard()\n",
    "else:\n",
    "    x_coordenates, y_coordenates, my_direction = wordLocation(board, player_pawns, my_word)"
   ]
  },
  {
   "cell_type": "markdown",
   "metadata": {},
   "source": [
    "### Otra ronda mas"
   ]
  },
  {
   "cell_type": "code",
   "execution_count": 11,
   "metadata": {},
   "outputs": [
    {
     "name": "stdout",
     "output_type": "stream",
     "text": [
      "\n",
      "SELECCIONA UNA OPCION:\n",
      "1. Seguir jugando\n",
      "2. Consultar tus fichas\n",
      "3. Consultar tus puntos\n",
      "4. Consultar los puntos de cada ficha\n",
      "5. Consulta cuantas fichas quedan en la bolsa\n",
      "6. Mostrar opciones del menu\n",
      "7. Salir del juego\n",
      "\n",
      "Por favor selecciona una opcion valida (1, 2, 3, 4 o 5)\n",
      "\n",
      "\n",
      "Continuemos con el juego...¿seras capaz de sacar mas puntos?\n",
      "\n",
      "Buscando palabras el proceso puede tardar unos segundos...\n",
      "----------------------------------------\n",
      "SET\n",
      "SER\n",
      "SUR\n",
      "TER\n",
      "TUS\n",
      "RES\n",
      "RUS\n",
      "MES\n",
      "MUS\n",
      "MUR\n",
      "SUTE\n",
      "TRES\n",
      "TEMU\n",
      "TUSE\n",
      "REUS\n",
      "RUTE\n",
      "MUES\n",
      "MUER\n",
      "USTE\n",
      "TURRE\n",
      "\n",
      "¡Palabra válida ingresada!\n",
      "\n",
      "\n",
      "Direcciones permitidas para colocar en el tablero: \n",
      "·Vertical:3, Horizontal:7, Direction:'H'\n",
      "\n",
      "¡Opcion válida ingresada!\n",
      "\n",
      "\n",
      "PUNTOS: 9\n",
      "\n"
     ]
    },
    {
     "data": {
      "image/png": "[encoded data removed]",
      "text/plain": [
       "<Figure size 640x480 with 1 Axes>"
      ]
     },
     "metadata": {},
     "output_type": "display_data"
    },
    {
     "name": "stdout",
     "output_type": "stream",
     "text": [
      "\n",
      "¡¡Hasta la vista, baby!!\n",
      "\n",
      "Puntos ganados en la partida: 9\n",
      "\n",
      "Así ha quedado tu tablero finalmente: \n"
     ]
    },
    {
     "data": {
      "image/png": "[encoded data removed]",
      "text/plain": [
       "<Figure size 640x480 with 1 Axes>"
      ]
     },
     "metadata": {},
     "output_type": "display_data"
    }
   ],
   "source": [
    "def options(status):\n",
    "    \"\"\"\n",
    "    Menu con opciones para el juego\n",
    "    \"\"\"\n",
    "    if status == 0:\n",
    "        print('\\nSELECCIONA UNA OPCION:')\n",
    "        print('1. Seguir jugando')\n",
    "        print('2. Consultar tus fichas')\n",
    "        print('3. Consultar tus puntos')\n",
    "        print('4. Consultar los puntos de cada ficha')\n",
    "        print('5. Consulta cuantas fichas quedan en la bolsa')\n",
    "        print('6. Mostrar opciones del menu')\n",
    "        print('7. Salir del juego')\n",
    "    else:\n",
    "        selection = input('Selecciona una opcion del menu')\n",
    "        return selection\n",
    "\n",
    "# Interruptor evita mostrar continuamente el menu en el programa\n",
    "status = 0\n",
    "\n",
    "while True:\n",
    "    # Coge las fichas que te falten de la bolsa\n",
    "    deal_pawns()\n",
    "    \n",
    "    if len(bag_of_pawns.letters) < 2:\n",
    "        print(\"\\nNo quedan mas fichas el juego a terminado\\n\")\n",
    "        break\n",
    "\n",
    "    elif len(bag_of_pawns.letters) > 2:\n",
    "        game_menu = options(status)\n",
    "        status = 1\n",
    "        \n",
    "        if game_menu == \"1\":\n",
    "            print('\\nContinuemos con el juego...¿seras capaz de sacar mas puntos?')\n",
    "            # Inserta y guarda una palabra valida\n",
    "            my_word = insert_word()\n",
    "            # inserta coordenadas\n",
    "            x_coordenates, y_coordenates, my_direction = wordLocation(board, player_pawns, my_word)\n",
    "            # Valida entradas\n",
    "            if validation_coordenates(x_coordenates, y_coordenates, my_direction):\n",
    "                # Elimina las letras de la palabra introducida en el tablero de tu mano\n",
    "                for letter in my_word.word[0]:\n",
    "                    player_pawns.letters.remove(letter)\n",
    "                print(f\"\\nPUNTOS: {board.score}\\n\")\n",
    "                board.showBoard()\n",
    "            else:\n",
    "                x_coordenates, y_coordenates, my_direction = wordLocation(board, player_pawns, my_word)\n",
    "        \n",
    "        elif game_menu == \"2\":\n",
    "            print('\\nFichas en tu mano: ')\n",
    "            show_player_pawns = player_pawns.showPawns()\n",
    "        \n",
    "        elif game_menu == \"3\":\n",
    "            print(f\"\\nPuntos ganados: {board.score}\\n\")\n",
    "        \n",
    "        elif game_menu == \"4\":\n",
    "            print('\\nValor en puntos de cada letra: ')\n",
    "            for key, value in player_pawns.points.items():\n",
    "                print(f'{key} -> {value} puntos.')\n",
    "        \n",
    "        elif game_menu == \"5\":\n",
    "            print(f\"\\nQuedan {len(bag_of_pawns.letters)} fichas en el juego\")\n",
    "        \n",
    "        elif game_menu == \"6\":\n",
    "            status = 0\n",
    "            \n",
    "        elif game_menu == \"7\":\n",
    "            print(\"\\n¡¡Hasta la vista, baby!!\")\n",
    "            break\n",
    "               \n",
    "        else:\n",
    "            print(\"\\nPor favor selecciona una opcion valida (1, 2, 3, 4 o 5)\\n\")\n",
    "        \n",
    "        \n",
    "print(f\"\\nPuntos ganados en la partida: {board.score}\\n\")\n",
    "print(\"Así ha quedado tu tablero finalmente: \")\n",
    "board.showBoard()      "
   ]
  }
 ],
 "metadata": {
  "kernelspec": {
   "display_name": "Python 3",
   "language": "python",
   "name": "python3"
  },
  "language_info": {
   "codemirror_mode": {
    "name": "ipython",
    "version": 3
   },
   "file_extension": ".py",
   "mimetype": "text/x-python",
   "name": "python",
   "nbconvert_exporter": "python",
   "pygments_lexer": "ipython3",
   "version": "3.12.1"
  }
 },
 "nbformat": 4,
 "nbformat_minor": 2
}
