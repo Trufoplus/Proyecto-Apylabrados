{
 "cells": [
  {
   "cell_type": "markdown",
   "metadata": {},
   "source": [
    "### Crea la bolsa de fichas"
   ]
  },
  {
   "cell_type": "code",
   "execution_count": null,
   "metadata": {},
   "outputs": [],
   "source": [
    "from ApylabradosModule import Pawns\n",
    "\n",
    "bag_of_pawns = Pawns()\n",
    "bag_of_pawns.createBag()"
   ]
  },
  {
   "cell_type": "markdown",
   "metadata": {},
   "source": [
    "### Crea las fichas del jugador "
   ]
  },
  {
   "cell_type": "code",
   "execution_count": null,
   "metadata": {},
   "outputs": [],
   "source": [
    "player_pawns = Pawns()"
   ]
  },
  {
   "cell_type": "markdown",
   "metadata": {},
   "source": [
    "### Crea el tablero"
   ]
  },
  {
   "cell_type": "code",
   "execution_count": null,
   "metadata": {},
   "outputs": [],
   "source": [
    "from ApylabradosModule import Board\n",
    "\n",
    "#Crea el tablero del juego\n",
    "print('\\nTablero de juego\\n')\n",
    "board = Board()\n",
    "board.showBoard()"
   ]
  },
  {
   "cell_type": "markdown",
   "metadata": {},
   "source": [
    "### Inicializar la variable score de la clase Board a 0"
   ]
  },
  {
   "cell_type": "code",
   "execution_count": null,
   "metadata": {},
   "outputs": [],
   "source": [
    "print(f\"\\nPuntuación: {board.score}\\n\")"
   ]
  },
  {
   "cell_type": "markdown",
   "metadata": {},
   "source": [
    "### Da la bienvenida"
   ]
  },
  {
   "cell_type": "code",
   "execution_count": null,
   "metadata": {},
   "outputs": [],
   "source": [
    "board.welcome()"
   ]
  },
  {
   "cell_type": "markdown",
   "metadata": {},
   "source": [
    "### Instrucciones del juego"
   ]
  },
  {
   "cell_type": "code",
   "execution_count": null,
   "metadata": {},
   "outputs": [],
   "source": [
    "board.instructions()"
   ]
  },
  {
   "cell_type": "markdown",
   "metadata": {},
   "source": [
    "### Reparte 7 fichas al jugador y muéstraselas"
   ]
  },
  {
   "cell_type": "code",
   "execution_count": null,
   "metadata": {},
   "outputs": [],
   "source": [
    "def deal_pawns():\n",
    "    \"\"\"\n",
    "    Agarra fichas de la bolsa hasta tener las 7\n",
    "    \"\"\"\n",
    "    #calcula las fichas que te faltan\n",
    "    missing_pawns = 7 - len(player_pawns.letters)\n",
    "    #Agarra fichas aleatorias de la bolsa\n",
    "    for pawn in range(missing_pawns):\n",
    "        player_pawn = bag_of_pawns.takeRandomPawn().upper()\n",
    "        player_pawns.addPawn(player_pawn)\n",
    "\n",
    "    print(\"\\nTus Fichas: \")\n",
    "    player_pawns.showPawns() \n",
    "\n",
    "\n",
    "\n",
    "# Genera y guarda tus fichas\n",
    "deal_pawns()"
   ]
  },
  {
   "cell_type": "markdown",
   "metadata": {},
   "source": [
    "### Ofrece ayuda con las palabras que puede formar o permite al usuario introducir palabra"
   ]
  },
  {
   "cell_type": "code",
   "execution_count": null,
   "metadata": {},
   "outputs": [],
   "source": [
    "from ApylabradosModule import Word, Dictionary, FrecuencyTable\n",
    "\n",
    "\n",
    "\n",
    "def insert_word():\n",
    "    \"\"\"\n",
    "    Inserta y devuelve una palabra valida\n",
    "    \"\"\"\n",
    "    while True:\n",
    "        msg = \"Selecciona una opcion:\\n1 para introducir una palabra\\n2 para ver sugerencias\\n3 Descartar tus fichas y robar nuevas\\n4 para salir\"\n",
    "        select = input(msg)\n",
    "        \n",
    "        if select == \"1\":\n",
    "            my_word = Word.readWord()\n",
    "            if Dictionary.validateWord(my_word):\n",
    "                print(\"\\n¡Palabra válida ingresada!\\n\")\n",
    "                return my_word\n",
    "            else:\n",
    "                print(\"\\nERROR: La palabra ingresada no es válida o no existe\\n\")\n",
    "                \n",
    "        elif select == \"2\":\n",
    "            print(\"\\nBuscando palabras el proceso puede tardar unos segundos...\")\n",
    "            print(\"-\" * 40)\n",
    "            combinations = Dictionary.showWord(player_pawns)\n",
    "            if combinations == False:\n",
    "                # Si no hay combinaciones posible roba nuevas fichas\n",
    "                for letter in player_pawns.letters:\n",
    "                    bag_of_pawns.addPawn(letter)\n",
    "                    player_pawns.letters.remove(letter)\n",
    "                print(\"\\nTus fichas nuevas:\")\n",
    "                deal_pawns()\n",
    "                \n",
    "        elif select == \"3\":\n",
    "            # En caso de tus combinaciones de fichas no tenga una letra que coincida\n",
    "            # con las fichas en el tablero, puedes soliciatar nuevas fichas\n",
    "            for letter in player_pawns.letters:\n",
    "                bag_of_pawns.addPawn(letter)\n",
    "                player_pawns.letters.remove(letter)\n",
    "            print(\"\\nTus fichas nuevas:\")\n",
    "            deal_pawns()  \n",
    "             \n",
    "        elif select == \"4\":\n",
    "            break\n",
    "                \n",
    "        else:\n",
    "            print(\"\\nERROR: Por favor, elige una opción válida\\n\")\n",
    "\n",
    "\n",
    "\n",
    "# Inserta y guarda una palabra valida\n",
    "my_word = insert_word()"
   ]
  },
  {
   "cell_type": "markdown",
   "metadata": {},
   "source": [
    "### Introduce la ubicacion de la palabra o solicita ayuda para colocarla"
   ]
  },
  {
   "cell_type": "code",
   "execution_count": null,
   "metadata": {},
   "outputs": [],
   "source": [
    "\n",
    "def wordLocation(board, player_pawns, my_word):\n",
    "    \"\"\"\n",
    "    Introduce las coordenadas en el tablero\n",
    "    \"\"\"\n",
    "    while True:\n",
    "        select = input(\"Selecciona:\\n1 - Para introducir las coordenadas de la palabra\\n2 - Solicita ayuda\\n3 - Para salir\")\n",
    "        \n",
    "        if select == \"1\":\n",
    "            # Ubicacion de la palabra (eje X, eje Y, direccion de la palabra)\n",
    "            while True:\n",
    "                x_coordenates = int(input(\"Coordenada del eje vertical para colocar la primera letra:\"))\n",
    "                if x_coordenates > 14:\n",
    "                    print('\\nERROR: introduce una cordenada entre el 0 o el 14')\n",
    "                else:\n",
    "                    break\n",
    "\n",
    "            while True:\n",
    "                y_coordenates = int(input(\"Coordenadas del eje horizontal para colocar la primera letra: \"))\n",
    "                if y_coordenates > 14:\n",
    "                    print('\\nERROR: introduce una cordenada entre el 0 o el 14')\n",
    "                else:\n",
    "                    break\n",
    "\n",
    "            while True:\n",
    "                my_direction = input(\"Direccion de la palabra 'V' (vertical) o 'H' (Horizontal):\").upper()\n",
    "                if my_direction not in 'VH':\n",
    "                    print('\\nERROR: introduce V para vertical o H para horizontal')\n",
    "                else:\n",
    "                    break\n",
    "            print(\"\\n¡Opcion válida ingresada!\\n\")    \n",
    "            return x_coordenates, y_coordenates, my_direction  \n",
    "                \n",
    "        elif select == \"2\":\n",
    "            # MUESTRA LAS DIRECCIONES POSIBLES PARA COLOCAR LA PALABRA EN EL TABLERO\n",
    "            # SI LA PALABRA NO SE PUDE COLOCAR SOLICITA UNA NUEVA\n",
    "            if not board.showWordPlacement(player_pawns, my_word.word[0]):\n",
    "                my_word = insert_word()\n",
    "\n",
    "        elif select == \"3\":\n",
    "            break\n",
    "        \n",
    "        else:\n",
    "            print(\"\\nERROR: Opcion invalida, por favor seleccione una opcion valida.\")\n",
    "\n",
    "\n",
    "\n",
    "# inserta coordenadas\n",
    "x_coordenates, y_coordenates, my_direction = wordLocation(board, player_pawns, my_word)\n",
    "\n"
   ]
  },
  {
   "cell_type": "markdown",
   "metadata": {},
   "source": [
    "### Comprueba que se cumplen las normas para ubicar la palabra en el tablero"
   ]
  },
  {
   "cell_type": "code",
   "execution_count": null,
   "metadata": {},
   "outputs": [],
   "source": [
    "\n",
    "def validation_coordenates(x_coordenates, y_coordenates, my_direction):\n",
    "    ###############################################################################\n",
    "    # Valida que el jugador tiene las fichas necesarias para formar la palabra.\n",
    "    # Y que se cumple las reglas para colocar las coordenadas introducidas\n",
    "    # por el jugador.\n",
    "    ###############################################################################\n",
    "    missing_pawns = board.getPawns(\n",
    "                                word=my_word.word[0],\n",
    "                                cord_x= x_coordenates,\n",
    "                                cord_y=y_coordenates,\n",
    "                                direction=my_direction\n",
    "                                )\n",
    "\n",
    "    \n",
    "    if not FrecuencyTable.isSubset(missing_pawns.word, player_pawns.letters):\n",
    "        t_missing_pawn = '\\nERROR: Te faltan fichas para completar tu palabra en el tablero'\n",
    "        print(t_missing_pawn)\n",
    "        return False\n",
    "\n",
    "\n",
    "    ###############################################################################\n",
    "    # Verifica que se cumple las reglas del juego\n",
    "    ###############################################################################\n",
    "    check_rules = board.isPossible(word = Pawns.getTotalPawns(my_word), \n",
    "                                    cord_x = x_coordenates, \n",
    "                                    cord_y = y_coordenates, \n",
    "                                    direction = my_direction)\n",
    "\n",
    "    # Si cumple con las reglas dibuja la palabra en el tablero\n",
    "    if check_rules[0] == True:\n",
    "        #Colaca la palabra en el tablero\n",
    "        board.placeWord(player_pawns = player_pawns,\n",
    "                    place_word = Pawns.getTotalPawns(my_word),\n",
    "                    cord_x = x_coordenates, \n",
    "                    cord_y = y_coordenates, \n",
    "                    direction = my_direction)\n",
    "        return True\n",
    "\n",
    "    #Si no cumple no muestra la palabra en el juego    \n",
    "    else:\n",
    "        print(check_rules[1])\n",
    "        return False\n",
    "\n",
    "\n",
    "\n",
    "if validation_coordenates(x_coordenates, y_coordenates, my_direction):\n",
    "    # Elimina las letras de la palabra introducida en el tablero de tu mano\n",
    "    for letter in my_word.word[0]:\n",
    "        player_pawns.letters.remove(letter)\n",
    "    print(f\"\\nPUNTOS: {board.score}\\n\")\n",
    "    board.showBoard()\n",
    "else:\n",
    "    x_coordenates, y_coordenates, my_direction = wordLocation(board, player_pawns, my_word)"
   ]
  },
  {
   "cell_type": "markdown",
   "metadata": {},
   "source": [
    "### Otra ronda mas"
   ]
  },
  {
   "cell_type": "code",
   "execution_count": null,
   "metadata": {},
   "outputs": [],
   "source": [
    "\n",
    "while True:\n",
    "    # Coge las fichas que te falten de la bolsa\n",
    "    deal_pawns()\n",
    "    \n",
    "    if len(bag_of_pawns.letters) < 2:\n",
    "        print(\"\\nNo quedan mas fichas el juego a terminado\\n\")\n",
    "        break\n",
    "\n",
    "    elif len(bag_of_pawns.letters) > 2:\n",
    "        print(f\"\\nQuedan {len(bag_of_pawns.letters)} fichas en el juego\")\n",
    "        print(\"¿Quieres seguir jugando?\")\n",
    "        continue_game = input(\"¿Quieres seguir jugando? si o no: \")\n",
    "        print(continue_game,'\\n')\n",
    "        \n",
    "        if continue_game.lower() == \"si\":\n",
    "            # Inserta y guarda una palabra valida\n",
    "            my_word = insert_word()\n",
    "            # inserta coordenadas\n",
    "            x_coordenates, y_coordenates, my_direction = wordLocation(board, player_pawns, my_word)\n",
    "            # Valida entradas\n",
    "            if validation_coordenates(x_coordenates, y_coordenates, my_direction):\n",
    "                # Elimina las letras de la palabra introducida en el tablero de tu mano\n",
    "                for letter in my_word.word[0]:\n",
    "                    player_pawns.letters.remove(letter)\n",
    "                print(f\"\\nPUNTOS: {board.score}\\n\")\n",
    "                board.showBoard()\n",
    "            else:\n",
    "                x_coordenates, y_coordenates, my_direction = wordLocation(board, player_pawns, my_word)\n",
    "        \n",
    "        else:\n",
    "            print(\"\\nEl juego a terminado\\n\")\n",
    "            break\n",
    "        \n",
    "        \n",
    "print(f\"\\nPUNTOS: {board.score}\\n\")\n",
    "board.showBoard()      "
   ]
  }
 ],
 "metadata": {
  "kernelspec": {
   "display_name": "Python 3",
   "language": "python",
   "name": "python3"
  },
  "language_info": {
   "codemirror_mode": {
    "name": "ipython",
    "version": 3
   },
   "file_extension": ".py",
   "mimetype": "text/x-python",
   "name": "python",
   "nbconvert_exporter": "python",
   "pygments_lexer": "ipython3",
   "version": "3.12.1"
  }
 },
 "nbformat": 4,
 "nbformat_minor": 2
}
