{
 "cells": [
  {
   "cell_type": "markdown",
   "metadata": {},
   "source": [
    "# Crear bolsa de fichas y visualizar las fichas de la bolsa"
   ]
  },
  {
   "cell_type": "code",
   "execution_count": 1,
   "metadata": {},
   "outputs": [
    {
     "name": "stdout",
     "output_type": "stream",
     "text": [
      "Numero total de fichas: 100\n",
      "{'A': 12, 'B': 2, 'C': 4, 'D': 5, 'E': 12, 'F': 2, 'G': 2, 'H': 2, 'I': 6, 'J': 1, 'K': 1, 'L': 4, 'M': 3, 'N': 5, 'O': 9, 'P': 2, 'Q': 1, 'R': 5, 'S': 7, 'T': 4, 'U': 6, 'V': 1, 'W': 1, 'X': 1, 'Y': 1, 'Z': 1}\n"
     ]
    }
   ],
   "source": [
    "from ApylabradosModule import Pawns\n",
    "\n",
    "my_pawns = Pawns()\n",
    "my_pawns.createBag()\n",
    "my_pawns.showPawns()"
   ]
  },
  {
   "cell_type": "code",
   "execution_count": 2,
   "metadata": {},
   "outputs": [
    {
     "name": "stdout",
     "output_type": "stream",
     "text": [
      "has agarrado la letra: D\n",
      "Estas son mis letras:\n",
      "['D']\n",
      "has agarrado la letra: R\n",
      "Estas son mis letras:\n",
      "['R']\n",
      "has agarrado la letra: A\n",
      "Estas son mis letras:\n",
      "['A']\n",
      "has agarrado la letra: N\n",
      "Estas son mis letras:\n",
      "['N']\n",
      "has agarrado la letra: U\n",
      "Estas son mis letras:\n",
      "['U']\n",
      "has agarrado la letra: D\n",
      "Estas son mis letras:\n",
      "['D']\n",
      "has agarrado la letra: C\n",
      "Estas son mis letras:\n",
      "['C']\n",
      "Numero total de fichas: 93\n",
      "{'A': 11, 'B': 2, 'C': 3, 'D': 3, 'E': 12, 'F': 2, 'G': 2, 'H': 2, 'I': 6, 'J': 1, 'K': 1, 'L': 4, 'M': 3, 'N': 4, 'O': 9, 'P': 2, 'Q': 1, 'R': 4, 'S': 7, 'T': 4, 'U': 5, 'V': 1, 'W': 1, 'X': 1, 'Y': 1, 'Z': 1}\n"
     ]
    }
   ],
   "source": [
    "for pawn in range(7):\n",
    "    my_pawns.takeRandomPawn()\n",
    "my_pawns.showPawns()    "
   ]
  }
 ],
 "metadata": {
  "kernelspec": {
   "display_name": "Python 3",
   "language": "python",
   "name": "python3"
  },
  "language_info": {
   "codemirror_mode": {
    "name": "ipython",
    "version": 3
   },
   "file_extension": ".py",
   "mimetype": "text/x-python",
   "name": "python",
   "nbconvert_exporter": "python",
   "pygments_lexer": "ipython3",
   "version": "3.12.1"
  }
 },
 "nbformat": 4,
 "nbformat_minor": 2
}
