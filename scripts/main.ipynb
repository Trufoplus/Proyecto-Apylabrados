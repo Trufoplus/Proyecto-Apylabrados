{
 "cells": [
  {
   "cell_type": "markdown",
   "metadata": {},
   "source": [
    "### Crear una bolsa de fichas y visualizar las fichas dentro de la bolsa"
   ]
  },
  {
   "cell_type": "code",
   "execution_count": 7,
   "metadata": {},
   "outputs": [
    {
     "name": "stdout",
     "output_type": "stream",
     "text": [
      "Numero total de fichas: 100\n",
      "{'A': 12, 'B': 2, 'C': 4, 'D': 5, 'E': 12, 'F': 2, 'G': 2, 'H': 2, 'I': 6, 'J': 1, 'K': 1, 'L': 4, 'M': 3, 'N': 5, 'O': 9, 'P': 2, 'Q': 1, 'R': 5, 'S': 7, 'T': 4, 'U': 6, 'V': 1, 'W': 1, 'X': 1, 'Y': 1, 'Z': 1}\n"
     ]
    }
   ],
   "source": [
    "from ApylabradosModule import Pawns, Word, Dictionary\n",
    "\n",
    "bag_of_pawns = Pawns()\n",
    "bag_of_pawns.createBag()\n",
    "bag_of_pawns.showPawns()"
   ]
  },
  {
   "cell_type": "markdown",
   "metadata": {},
   "source": [
    "### Agarra 7 fichas aleatorias de la bolsa"
   ]
  },
  {
   "cell_type": "code",
   "execution_count": 8,
   "metadata": {},
   "outputs": [
    {
     "name": "stdout",
     "output_type": "stream",
     "text": [
      "Fichas en la bolsa:\n",
      "Numero total de fichas: 93\n",
      "{'A': 10, 'B': 1, 'C': 4, 'D': 5, 'E': 11, 'F': 2, 'G': 2, 'H': 2, 'I': 5, 'J': 1, 'K': 1, 'L': 4, 'M': 3, 'N': 5, 'O': 9, 'P': 2, 'Q': 1, 'R': 4, 'S': 7, 'T': 4, 'U': 6, 'V': 1, 'W': 1, 'X': 1, 'Z': 1}\n",
      "\n",
      "Fichas del jugador: \n",
      "Numero total de fichas: 7\n",
      "{'Y': 1, 'E': 1, 'A': 2, 'R': 1, 'B': 1, 'I': 1}\n"
     ]
    }
   ],
   "source": [
    "player_pawns = Pawns()\n",
    "for pawn in range(7):\n",
    "    player_pawn = bag_of_pawns.takeRandomPawn()\n",
    "    player_pawns.addPawn(player_pawn)\n",
    "    \n",
    "print(\"Fichas en la bolsa:\")\n",
    "bag_of_pawns.showPawns()\n",
    "\n",
    "print(\"\\nFichas del jugador: \")\n",
    "player_pawns.showPawns()   "
   ]
  },
  {
   "cell_type": "markdown",
   "metadata": {},
   "source": [
    "## Probando el diccionario"
   ]
  },
  {
   "cell_type": "code",
   "execution_count": 9,
   "metadata": {},
   "outputs": [
    {
     "name": "stdout",
     "output_type": "stream",
     "text": [
      "La palabra no se encuentra en el diccionario\n"
     ]
    },
    {
     "data": {
      "text/plain": [
       "False"
      ]
     },
     "execution_count": 9,
     "metadata": {},
     "output_type": "execute_result"
    }
   ],
   "source": [
    "new_word = Word.readWord()\n",
    "\n",
    "Dictionary.validateWord(new_word)"
   ]
  }
 ],
 "metadata": {
  "kernelspec": {
   "display_name": "Python 3",
   "language": "python",
   "name": "python3"
  },
  "language_info": {
   "codemirror_mode": {
    "name": "ipython",
    "version": 3
   },
   "file_extension": ".py",
   "mimetype": "text/x-python",
   "name": "python",
   "nbconvert_exporter": "python",
   "pygments_lexer": "ipython3",
   "version": "3.12.1"
  }
 },
 "nbformat": 4,
 "nbformat_minor": 2
}
