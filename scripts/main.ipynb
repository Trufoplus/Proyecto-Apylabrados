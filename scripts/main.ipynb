{
 "cells": [
  {
   "cell_type": "markdown",
   "metadata": {},
   "source": [
    "### Crear una bolsa de fichas"
   ]
  },
  {
   "cell_type": "code",
   "execution_count": 1,
   "metadata": {},
   "outputs": [],
   "source": [
    "from ApylabradosModule import Pawns\n",
    "\n",
    "bag_of_pawns = Pawns()\n",
    "bag_of_pawns.createBag()"
   ]
  },
  {
   "cell_type": "markdown",
   "metadata": {},
   "source": [
    "### Agarra 7 fichas aleatorias de la bolsa"
   ]
  },
  {
   "cell_type": "code",
   "execution_count": 2,
   "metadata": {},
   "outputs": [],
   "source": [
    "player_pawns = Pawns()\n",
    "for pawn in range(7):\n",
    "    player_pawn = bag_of_pawns.takeRandomPawn()\n",
    "    player_pawns.addPawn(player_pawn) "
   ]
  },
  {
   "cell_type": "markdown",
   "metadata": {},
   "source": [
    "### FICHAS EN EL JUEGO"
   ]
  },
  {
   "cell_type": "code",
   "execution_count": 3,
   "metadata": {},
   "outputs": [
    {
     "name": "stdout",
     "output_type": "stream",
     "text": [
      "\n",
      "Fichas en la bolsa:\n",
      "Numero total de fichas: 93\n",
      "A: 12\n",
      "B: 2\n",
      "C: 4\n",
      "D: 4\n",
      "E: 11\n",
      "F: 2\n",
      "G: 1\n",
      "H: 1\n",
      "I: 6\n",
      "J: 1\n",
      "K: 1\n",
      "L: 4\n",
      "M: 2\n",
      "N: 5\n",
      "O: 8\n",
      "P: 2\n",
      "Q: 1\n",
      "R: 5\n",
      "S: 7\n",
      "T: 4\n",
      "U: 5\n",
      "V: 1\n",
      "W: 1\n",
      "X: 1\n",
      "Y: 1\n",
      "Z: 1\n"
     ]
    }
   ],
   "source": [
    "print(\"\\nFichas en la bolsa:\")\n",
    "pawns_in_game = bag_of_pawns.showPawns()"
   ]
  },
  {
   "cell_type": "markdown",
   "metadata": {},
   "source": [
    "### FICHAS DEL JUGADOR"
   ]
  },
  {
   "cell_type": "code",
   "execution_count": 4,
   "metadata": {},
   "outputs": [
    {
     "name": "stdout",
     "output_type": "stream",
     "text": [
      "\n",
      "Fichas del jugador: \n",
      "Numero total de fichas: 7\n",
      "D: 1\n",
      "E: 1\n",
      "G: 1\n",
      "H: 1\n",
      "M: 1\n",
      "O: 1\n",
      "U: 1\n"
     ]
    }
   ],
   "source": [
    "print(\"\\nFichas del jugador: \")\n",
    "my_pawns = player_pawns.showPawns() "
   ]
  },
  {
   "cell_type": "markdown",
   "metadata": {},
   "source": [
    "## TABLERO DE JUEGO"
   ]
  },
  {
   "cell_type": "code",
   "execution_count": 5,
   "metadata": {},
   "outputs": [
    {
     "name": "stdout",
     "output_type": "stream",
     "text": [
      "Tablero de juego\n",
      "     00   01   02   03   04   05   06   07   08   09   10   11   12   13   14   \n",
      "   ╦════╦════╦════╦════╦════╦════╦════╦════╦════╦════╦════╦════╦════╦════╦════╦\n",
      "00 ║    ║    ║    ║    ║    ║    ║    ║    ║    ║    ║    ║    ║    ║    ║    ║ \n",
      "   ╩════╩════╩════╩════╩════╩════╩════╩════╩════╩════╩════╩════╩════╩════╩════╩\n",
      "01 ║    ║    ║    ║    ║    ║    ║    ║    ║    ║    ║    ║    ║    ║    ║    ║ \n",
      "   ╩════╩════╩════╩════╩════╩════╩════╩════╩════╩════╩════╩════╩════╩════╩════╩\n",
      "02 ║    ║    ║    ║    ║    ║    ║    ║    ║    ║    ║    ║    ║    ║    ║    ║ \n",
      "   ╩════╩════╩════╩════╩════╩════╩════╩════╩════╩════╩════╩════╩════╩════╩════╩\n",
      "03 ║    ║    ║    ║    ║    ║    ║    ║    ║    ║    ║    ║    ║    ║    ║    ║ \n",
      "   ╩════╩════╩════╩════╩════╩════╩════╩════╩════╩════╩════╩════╩════╩════╩════╩\n",
      "04 ║    ║    ║    ║    ║    ║    ║    ║    ║    ║    ║    ║    ║    ║    ║    ║ \n",
      "   ╩════╩════╩════╩════╩════╩════╩════╩════╩════╩════╩════╩════╩════╩════╩════╩\n",
      "05 ║    ║    ║    ║    ║    ║    ║    ║    ║    ║    ║    ║    ║    ║    ║    ║ \n",
      "   ╩════╩════╩════╩════╩════╩════╩════╩════╩════╩════╩════╩════╩════╩════╩════╩\n",
      "06 ║    ║    ║    ║    ║    ║    ║    ║    ║    ║    ║    ║    ║    ║    ║    ║ \n",
      "   ╩════╩════╩════╩════╩════╩════╩════╩════╩════╩════╩════╩════╩════╩════╩════╩\n",
      "07 ║    ║    ║    ║    ║    ║    ║    ║    ║    ║    ║    ║    ║    ║    ║    ║ \n",
      "   ╩════╩════╩════╩════╩════╩════╩════╩════╩════╩════╩════╩════╩════╩════╩════╩\n",
      "08 ║    ║    ║    ║    ║    ║    ║    ║    ║    ║    ║    ║    ║    ║    ║    ║ \n",
      "   ╩════╩════╩════╩════╩════╩════╩════╩════╩════╩════╩════╩════╩════╩════╩════╩\n",
      "09 ║    ║    ║    ║    ║    ║    ║    ║    ║    ║    ║    ║    ║    ║    ║    ║ \n",
      "   ╩════╩════╩════╩════╩════╩════╩════╩════╩════╩════╩════╩════╩════╩════╩════╩\n",
      "10 ║    ║    ║    ║    ║    ║    ║    ║    ║    ║    ║    ║    ║    ║    ║    ║ \n",
      "   ╩════╩════╩════╩════╩════╩════╩════╩════╩════╩════╩════╩════╩════╩════╩════╩\n",
      "11 ║    ║    ║    ║    ║    ║    ║    ║    ║    ║    ║    ║    ║    ║    ║    ║ \n",
      "   ╩════╩════╩════╩════╩════╩════╩════╩════╩════╩════╩════╩════╩════╩════╩════╩\n",
      "12 ║    ║    ║    ║    ║    ║    ║    ║    ║    ║    ║    ║    ║    ║    ║    ║ \n",
      "   ╩════╩════╩════╩════╩════╩════╩════╩════╩════╩════╩════╩════╩════╩════╩════╩\n",
      "13 ║    ║    ║    ║    ║    ║    ║    ║    ║    ║    ║    ║    ║    ║    ║    ║ \n",
      "   ╩════╩════╩════╩════╩════╩════╩════╩════╩════╩════╩════╩════╩════╩════╩════╩\n",
      "14 ║    ║    ║    ║    ║    ║    ║    ║    ║    ║    ║    ║    ║    ║    ║    ║ \n",
      "   ╩════╩════╩════╩════╩════╩════╩════╩════╩════╩════╩════╩════╩════╩════╩════╩\n"
     ]
    }
   ],
   "source": [
    "from ApylabradosModule import Board\n",
    "\n",
    "#Crea el tablero del juego\n",
    "print('Tablero de juego')\n",
    "board = Board()\n",
    "board.showBoard()"
   ]
  },
  {
   "cell_type": "markdown",
   "metadata": {},
   "source": [
    "## Introduciendo una palabra"
   ]
  },
  {
   "cell_type": "code",
   "execution_count": 6,
   "metadata": {},
   "outputs": [
    {
     "name": "stdout",
     "output_type": "stream",
     "text": [
      "La palabra no se encuentra en el diccionario\n",
      "H: 1\n",
      "M: 1\n",
      "O: 1\n",
      "U: 1\n",
      "     00   01   02   03   04   05   06   07   08   09   10   11   12   13   14   \n",
      "   ╦════╦════╦════╦════╦════╦════╦════╦════╦════╦════╦════╦════╦════╦════╦════╦\n",
      "00 ║    ║    ║    ║    ║    ║    ║    ║    ║    ║    ║    ║    ║    ║    ║    ║ \n",
      "   ╩════╩════╩════╩════╩════╩════╩════╩════╩════╩════╩════╩════╩════╩════╩════╩\n",
      "01 ║    ║    ║    ║    ║    ║    ║    ║    ║    ║    ║    ║    ║    ║    ║    ║ \n",
      "   ╩════╩════╩════╩════╩════╩════╩════╩════╩════╩════╩════╩════╩════╩════╩════╩\n",
      "02 ║    ║    ║    ║    ║    ║    ║    ║    ║    ║    ║    ║    ║    ║    ║    ║ \n",
      "   ╩════╩════╩════╩════╩════╩════╩════╩════╩════╩════╩════╩════╩════╩════╩════╩\n",
      "03 ║    ║    ║    ║    ║    ║    ║    ║    ║    ║    ║    ║    ║    ║    ║    ║ \n",
      "   ╩════╩════╩════╩════╩════╩════╩════╩════╩════╩════╩════╩════╩════╩════╩════╩\n",
      "04 ║    ║    ║    ║    ║    ║    ║    ║    ║    ║    ║    ║    ║    ║    ║    ║ \n",
      "   ╩════╩════╩════╩════╩════╩════╩════╩════╩════╩════╩════╩════╩════╩════╩════╩\n",
      "05 ║    ║    ║    ║    ║    ║    ║    ║    ║    ║    ║    ║    ║    ║    ║    ║ \n",
      "   ╩════╩════╩════╩════╩════╩════╩════╩════╩════╩════╩════╩════╩════╩════╩════╩\n",
      "06 ║    ║    ║    ║    ║    ║    ║    ║  H ║    ║    ║    ║    ║    ║    ║    ║ \n",
      "   ╩════╩════╩════╩════╩════╩════╩════╩════╩════╩════╩════╩════╩════╩════╩════╩\n",
      "07 ║    ║    ║    ║    ║    ║    ║    ║  U ║    ║    ║    ║    ║    ║    ║    ║ \n",
      "   ╩════╩════╩════╩════╩════╩════╩════╩════╩════╩════╩════╩════╩════╩════╩════╩\n",
      "08 ║    ║    ║    ║    ║    ║    ║    ║  M ║    ║    ║    ║    ║    ║    ║    ║ \n",
      "   ╩════╩════╩════╩════╩════╩════╩════╩════╩════╩════╩════╩════╩════╩════╩════╩\n",
      "09 ║    ║    ║    ║    ║    ║    ║    ║  O ║    ║    ║    ║    ║    ║    ║    ║ \n",
      "   ╩════╩════╩════╩════╩════╩════╩════╩════╩════╩════╩════╩════╩════╩════╩════╩\n",
      "10 ║    ║    ║    ║    ║    ║    ║    ║    ║    ║    ║    ║    ║    ║    ║    ║ \n",
      "   ╩════╩════╩════╩════╩════╩════╩════╩════╩════╩════╩════╩════╩════╩════╩════╩\n",
      "11 ║    ║    ║    ║    ║    ║    ║    ║    ║    ║    ║    ║    ║    ║    ║    ║ \n",
      "   ╩════╩════╩════╩════╩════╩════╩════╩════╩════╩════╩════╩════╩════╩════╩════╩\n",
      "12 ║    ║    ║    ║    ║    ║    ║    ║    ║    ║    ║    ║    ║    ║    ║    ║ \n",
      "   ╩════╩════╩════╩════╩════╩════╩════╩════╩════╩════╩════╩════╩════╩════╩════╩\n",
      "13 ║    ║    ║    ║    ║    ║    ║    ║    ║    ║    ║    ║    ║    ║    ║    ║ \n",
      "   ╩════╩════╩════╩════╩════╩════╩════╩════╩════╩════╩════╩════╩════╩════╩════╩\n",
      "14 ║    ║    ║    ║    ║    ║    ║    ║    ║    ║    ║    ║    ║    ║    ║    ║ \n",
      "   ╩════╩════╩════╩════╩════╩════╩════╩════╩════╩════╩════╩════╩════╩════╩════╩\n"
     ]
    }
   ],
   "source": [
    "from ApylabradosModule import Word, Dictionary, FrecuencyTable\n",
    "\n",
    "\n",
    "# Introduce una palabra\n",
    "while True:\n",
    "    my_word = Word.readWord()\n",
    "    Dictionary.validateWord(my_word)\n",
    "    letters_in_my_word = my_word.getFrecuency()\n",
    "    if FrecuencyTable.isSubset(letters_in_my_word, my_pawns):\n",
    "        break\n",
    "    else:\n",
    "        print(\"No tienes las fichas para formar esa palabra\")\n",
    "        print(\"Usas tus fichas para formar una palabra\")\n",
    "\n",
    "\n",
    "\n",
    "# Ubicacion de la palabra (eje X, eje Y, direccion de la palabra)\n",
    "while True:\n",
    "    x_coordenates = int(input(\"Escribe las coordenadas del eje X donde quieres que aparesca la primera letra: \"))\n",
    "    if x_coordenates > 14:\n",
    "        print('Error: introduce una cordenada entre el 0 o el 14')\n",
    "    else:\n",
    "        break\n",
    "\n",
    "while True:\n",
    "    y_coordenates = int(input(\"Escribe las coordenadas del eje Y donde quieres que aparesca la primera letra: \"))\n",
    "    if y_coordenates > 14:\n",
    "        print('Error: introduce una cordenada entre el 0 o el 14')\n",
    "    else:\n",
    "        break\n",
    "\n",
    "while True:\n",
    "    my_direction = input(\"Direccion de la palabra 'V' para vertical o 'H' para Horizontal: \").upper()\n",
    "    if my_direction not in 'VH':\n",
    "        print('Error: introduce V para vertical o H para horizontal')\n",
    "    else:\n",
    "        break\n",
    "\n",
    "\n",
    "#Verifica que se cumple las reglas del juego\n",
    "check_rules = board.isPossible(word = Pawns.getTotalPawns(my_word), \n",
    "                                cord_x = x_coordenates, \n",
    "                                cord_y = y_coordenates, \n",
    "                                direction = my_direction)\n",
    "\n",
    "# Si cumple con las reglas dibuja la palabra en el tablero\n",
    "if check_rules[0] == True:\n",
    "    #Colaca la palabra en el tablero\n",
    "    board.placeWord(player_pawns = my_pawns,\n",
    "                place_word = Pawns.getTotalPawns(my_word),\n",
    "                cord_x = x_coordenates, \n",
    "                cord_y = y_coordenates, \n",
    "                direction = my_direction)\n",
    "    \n",
    "    board.showBoard()\n",
    "\n",
    "#Si no cumple no muestra la palabra en el juego    \n",
    "else:\n",
    "    print(check_rules[1])"
   ]
  }
 ],
 "metadata": {
  "kernelspec": {
   "display_name": "Python 3",
   "language": "python",
   "name": "python3"
  },
  "language_info": {
   "codemirror_mode": {
    "name": "ipython",
    "version": 3
   },
   "file_extension": ".py",
   "mimetype": "text/x-python",
   "name": "python",
   "nbconvert_exporter": "python",
   "pygments_lexer": "ipython3",
   "version": "3.12.1"
  }
 },
 "nbformat": 4,
 "nbformat_minor": 2
}
