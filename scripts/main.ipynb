{
 "cells": [
  {
   "cell_type": "markdown",
   "metadata": {},
   "source": [
    "### Crear una bolsa de fichas"
   ]
  },
  {
   "cell_type": "code",
   "execution_count": 1,
   "metadata": {},
   "outputs": [
    {
     "name": "stderr",
     "output_type": "stream",
     "text": [
      "d:\\Programacion\\Git_And_GitHub\\Proyecto-python-fin-curso\\scripts\\ApylabradosModule.py:205: SyntaxWarning: invalid escape sequence '\\P'\n",
      "  file = 'D:\\Programacion\\Git_And_GitHub\\Proyecto-python-fin-curso\\datas\\word_list.txt'\n"
     ]
    }
   ],
   "source": [
    "from ApylabradosModule import Pawns\n",
    "\n",
    "bag_of_pawns = Pawns()\n",
    "bag_of_pawns.createBag()"
   ]
  },
  {
   "cell_type": "markdown",
   "metadata": {},
   "source": [
    "### Agarra 7 fichas aleatorias de la bolsa"
   ]
  },
  {
   "cell_type": "code",
   "execution_count": 2,
   "metadata": {},
   "outputs": [],
   "source": [
    "player_pawns = Pawns()\n",
    "for pawn in range(7):\n",
    "    player_pawn = bag_of_pawns.takeRandomPawn()\n",
    "    player_pawns.addPawn(player_pawn) "
   ]
  },
  {
   "cell_type": "markdown",
   "metadata": {},
   "source": [
    "### FICHAS EN EL JUEGO"
   ]
  },
  {
   "cell_type": "code",
   "execution_count": 3,
   "metadata": {},
   "outputs": [
    {
     "name": "stdout",
     "output_type": "stream",
     "text": [
      "\n",
      "Fichas en la bolsa:\n",
      "Numero total de fichas: 93\n",
      "A: 12\n",
      "B: 2\n",
      "C: 4\n",
      "D: 4\n",
      "E: 12\n",
      "F: 2\n",
      "G: 2\n",
      "H: 2\n",
      "I: 6\n",
      "J: 1\n",
      "K: 1\n",
      "L: 3\n",
      "M: 3\n",
      "N: 5\n",
      "O: 9\n",
      "P: 2\n",
      "Q: 1\n",
      "R: 4\n",
      "S: 6\n",
      "T: 4\n",
      "U: 3\n",
      "V: 1\n",
      "W: 1\n",
      "X: 1\n",
      "Y: 1\n",
      "Z: 1\n"
     ]
    }
   ],
   "source": [
    "print(\"\\nFichas en la bolsa:\")\n",
    "pawns_in_game = bag_of_pawns.showPawns()"
   ]
  },
  {
   "cell_type": "markdown",
   "metadata": {},
   "source": [
    "### FICHAS DEL JUGADOR"
   ]
  },
  {
   "cell_type": "code",
   "execution_count": 4,
   "metadata": {},
   "outputs": [
    {
     "name": "stdout",
     "output_type": "stream",
     "text": [
      "\n",
      "Fichas del jugador: \n",
      "Numero total de fichas: 7\n",
      "D: 1\n",
      "L: 1\n",
      "R: 1\n",
      "S: 1\n",
      "U: 3\n"
     ]
    }
   ],
   "source": [
    "print(\"\\nFichas del jugador: \")\n",
    "my_pawns = player_pawns.showPawns()"
   ]
  },
  {
   "cell_type": "markdown",
   "metadata": {},
   "source": [
    "### Muestra posibles palabras con las fichas que te han tocado"
   ]
  },
  {
   "cell_type": "code",
   "execution_count": 5,
   "metadata": {},
   "outputs": [
    {
     "name": "stdout",
     "output_type": "stream",
     "text": [
      "RUS\n",
      "SUR\n",
      "SUD\n",
      "URDU\n"
     ]
    }
   ],
   "source": [
    "from ApylabradosModule import Word, Dictionary, FrecuencyTable\n",
    "\n",
    "Dictionary.showWord(player_pawns)"
   ]
  },
  {
   "cell_type": "markdown",
   "metadata": {},
   "source": [
    "## TABLERO DE JUEGO"
   ]
  },
  {
   "cell_type": "code",
   "execution_count": 6,
   "metadata": {},
   "outputs": [
    {
     "name": "stdout",
     "output_type": "stream",
     "text": [
      "Tablero de juego\n",
      "     00   01   02   03   04   05   06   07   08   09   10   11   12   13   14   \n",
      "   ╦════╦════╦════╦════╦════╦════╦════╦════╦════╦════╦════╦════╦════╦════╦════╦\n",
      "00 ║    ║    ║    ║    ║    ║    ║    ║    ║    ║    ║    ║    ║    ║    ║    ║ \n",
      "   ╩════╩════╩════╩════╩════╩════╩════╩════╩════╩════╩════╩════╩════╩════╩════╩\n",
      "01 ║    ║    ║    ║    ║    ║    ║    ║    ║    ║    ║    ║    ║    ║    ║    ║ \n",
      "   ╩════╩════╩════╩════╩════╩════╩════╩════╩════╩════╩════╩════╩════╩════╩════╩\n",
      "02 ║    ║    ║    ║    ║    ║    ║    ║    ║    ║    ║    ║    ║    ║    ║    ║ \n",
      "   ╩════╩════╩════╩════╩════╩════╩════╩════╩════╩════╩════╩════╩════╩════╩════╩\n",
      "03 ║    ║    ║    ║    ║    ║    ║    ║    ║    ║    ║    ║    ║    ║    ║    ║ \n",
      "   ╩════╩════╩════╩════╩════╩════╩════╩════╩════╩════╩════╩════╩════╩════╩════╩\n",
      "04 ║    ║    ║    ║    ║    ║    ║    ║    ║    ║    ║    ║    ║    ║    ║    ║ \n",
      "   ╩════╩════╩════╩════╩════╩════╩════╩════╩════╩════╩════╩════╩════╩════╩════╩\n",
      "05 ║    ║    ║    ║    ║    ║    ║    ║    ║    ║    ║    ║    ║    ║    ║    ║ \n",
      "   ╩════╩════╩════╩════╩════╩════╩════╩════╩════╩════╩════╩════╩════╩════╩════╩\n",
      "06 ║    ║    ║    ║    ║    ║    ║    ║    ║    ║    ║    ║    ║    ║    ║    ║ \n",
      "   ╩════╩════╩════╩════╩════╩════╩════╩════╩════╩════╩════╩════╩════╩════╩════╩\n",
      "07 ║    ║    ║    ║    ║    ║    ║    ║    ║    ║    ║    ║    ║    ║    ║    ║ \n",
      "   ╩════╩════╩════╩════╩════╩════╩════╩════╩════╩════╩════╩════╩════╩════╩════╩\n",
      "08 ║    ║    ║    ║    ║    ║    ║    ║    ║    ║    ║    ║    ║    ║    ║    ║ \n",
      "   ╩════╩════╩════╩════╩════╩════╩════╩════╩════╩════╩════╩════╩════╩════╩════╩\n",
      "09 ║    ║    ║    ║    ║    ║    ║    ║    ║    ║    ║    ║    ║    ║    ║    ║ \n",
      "   ╩════╩════╩════╩════╩════╩════╩════╩════╩════╩════╩════╩════╩════╩════╩════╩\n",
      "10 ║    ║    ║    ║    ║    ║    ║    ║    ║    ║    ║    ║    ║    ║    ║    ║ \n",
      "   ╩════╩════╩════╩════╩════╩════╩════╩════╩════╩════╩════╩════╩════╩════╩════╩\n",
      "11 ║    ║    ║    ║    ║    ║    ║    ║    ║    ║    ║    ║    ║    ║    ║    ║ \n",
      "   ╩════╩════╩════╩════╩════╩════╩════╩════╩════╩════╩════╩════╩════╩════╩════╩\n",
      "12 ║    ║    ║    ║    ║    ║    ║    ║    ║    ║    ║    ║    ║    ║    ║    ║ \n",
      "   ╩════╩════╩════╩════╩════╩════╩════╩════╩════╩════╩════╩════╩════╩════╩════╩\n",
      "13 ║    ║    ║    ║    ║    ║    ║    ║    ║    ║    ║    ║    ║    ║    ║    ║ \n",
      "   ╩════╩════╩════╩════╩════╩════╩════╩════╩════╩════╩════╩════╩════╩════╩════╩\n",
      "14 ║    ║    ║    ║    ║    ║    ║    ║    ║    ║    ║    ║    ║    ║    ║    ║ \n",
      "   ╩════╩════╩════╩════╩════╩════╩════╩════╩════╩════╩════╩════╩════╩════╩════╩\n"
     ]
    }
   ],
   "source": [
    "from ApylabradosModule import Board\n",
    "\n",
    "#Crea el tablero del juego\n",
    "print('Tablero de juego')\n",
    "board = Board()\n",
    "board.showBoard()"
   ]
  },
  {
   "cell_type": "markdown",
   "metadata": {},
   "source": [
    "## Introduciendo una palabra"
   ]
  },
  {
   "cell_type": "code",
   "execution_count": 7,
   "metadata": {},
   "outputs": [],
   "source": [
    "from ApylabradosModule import Word, Dictionary, FrecuencyTable\n",
    "\n",
    "\n",
    "###############################################################################\n",
    "# Introduce una palabra\n",
    "###############################################################################\n",
    "my_word = Word.readWord()\n",
    "assert Dictionary.validateWord(my_word)\n"
   ]
  },
  {
   "cell_type": "code",
   "execution_count": 17,
   "metadata": {},
   "outputs": [
    {
     "name": "stdout",
     "output_type": "stream",
     "text": [
      "\n",
      "Direcciones permitidas para colocar en el tablero: \n",
      "·Vertical:5, Horizontal:7, Direction:'V'\n",
      "·Vertical:6, Horizontal:7, Direction:'V'\n",
      "·Vertical:7, Horizontal:7, Direction:'V'\n",
      "·Vertical:7, Horizontal:5, Direction:'H'\n",
      "·Vertical:7, Horizontal:6, Direction:'H'\n",
      "·Vertical:7, Horizontal:7, Direction:'H'\n"
     ]
    }
   ],
   "source": [
    "###############################################################################\n",
    "# MUESTRA LAS DIRECCIONES POSIBLES PARA COLOCAR LA PALABRA EN EL TABLERO\n",
    "###############################################################################\n",
    "\n",
    "board.showWordPlacement(player_pawns, my_word.word[0])"
   ]
  },
  {
   "cell_type": "markdown",
   "metadata": {},
   "source": [
    "### Ubica la palabra en el tablero"
   ]
  },
  {
   "cell_type": "code",
   "execution_count": 9,
   "metadata": {},
   "outputs": [
    {
     "ename": "KeyboardInterrupt",
     "evalue": "Interrupted by user",
     "output_type": "error",
     "traceback": [
      "\u001b[1;31m---------------------------------------------------------------------------\u001b[0m",
      "\u001b[1;31mKeyboardInterrupt\u001b[0m                         Traceback (most recent call last)",
      "Cell \u001b[1;32mIn[9], line 5\u001b[0m\n\u001b[0;32m      1\u001b[0m \u001b[38;5;66;03m###############################################################################\u001b[39;00m\n\u001b[0;32m      2\u001b[0m \u001b[38;5;66;03m# Ubicacion de la palabra (eje X, eje Y, direccion de la palabra)\u001b[39;00m\n\u001b[0;32m      3\u001b[0m \u001b[38;5;66;03m###############################################################################\u001b[39;00m\n\u001b[0;32m      4\u001b[0m \u001b[38;5;28;01mwhile\u001b[39;00m \u001b[38;5;28;01mTrue\u001b[39;00m:\n\u001b[1;32m----> 5\u001b[0m     x_coordenates \u001b[38;5;241m=\u001b[39m \u001b[38;5;28mint\u001b[39m(\u001b[38;5;28;43minput\u001b[39;49m\u001b[43m(\u001b[49m\u001b[38;5;124;43m\"\u001b[39;49m\u001b[38;5;124;43mCoordenada del eje vertical para colocar la primera letra:\u001b[39;49m\u001b[38;5;124;43m\"\u001b[39;49m\u001b[43m)\u001b[49m)\n\u001b[0;32m      6\u001b[0m     \u001b[38;5;28;01mif\u001b[39;00m x_coordenates \u001b[38;5;241m>\u001b[39m \u001b[38;5;241m14\u001b[39m:\n\u001b[0;32m      7\u001b[0m         \u001b[38;5;28mprint\u001b[39m(\u001b[38;5;124m'\u001b[39m\u001b[38;5;124mError: introduce una cordenada entre el 0 o el 14\u001b[39m\u001b[38;5;124m'\u001b[39m)\n",
      "File \u001b[1;32m~\\AppData\\Roaming\\Python\\Python312\\site-packages\\ipykernel\\kernelbase.py:1261\u001b[0m, in \u001b[0;36mKernel.raw_input\u001b[1;34m(self, prompt)\u001b[0m\n\u001b[0;32m   1259\u001b[0m     msg \u001b[38;5;241m=\u001b[39m \u001b[38;5;124m\"\u001b[39m\u001b[38;5;124mraw_input was called, but this frontend does not support input requests.\u001b[39m\u001b[38;5;124m\"\u001b[39m\n\u001b[0;32m   1260\u001b[0m     \u001b[38;5;28;01mraise\u001b[39;00m StdinNotImplementedError(msg)\n\u001b[1;32m-> 1261\u001b[0m \u001b[38;5;28;01mreturn\u001b[39;00m \u001b[38;5;28;43mself\u001b[39;49m\u001b[38;5;241;43m.\u001b[39;49m\u001b[43m_input_request\u001b[49m\u001b[43m(\u001b[49m\n\u001b[0;32m   1262\u001b[0m \u001b[43m    \u001b[49m\u001b[38;5;28;43mstr\u001b[39;49m\u001b[43m(\u001b[49m\u001b[43mprompt\u001b[49m\u001b[43m)\u001b[49m\u001b[43m,\u001b[49m\n\u001b[0;32m   1263\u001b[0m \u001b[43m    \u001b[49m\u001b[38;5;28;43mself\u001b[39;49m\u001b[38;5;241;43m.\u001b[39;49m\u001b[43m_parent_ident\u001b[49m\u001b[43m[\u001b[49m\u001b[38;5;124;43m\"\u001b[39;49m\u001b[38;5;124;43mshell\u001b[39;49m\u001b[38;5;124;43m\"\u001b[39;49m\u001b[43m]\u001b[49m\u001b[43m,\u001b[49m\n\u001b[0;32m   1264\u001b[0m \u001b[43m    \u001b[49m\u001b[38;5;28;43mself\u001b[39;49m\u001b[38;5;241;43m.\u001b[39;49m\u001b[43mget_parent\u001b[49m\u001b[43m(\u001b[49m\u001b[38;5;124;43m\"\u001b[39;49m\u001b[38;5;124;43mshell\u001b[39;49m\u001b[38;5;124;43m\"\u001b[39;49m\u001b[43m)\u001b[49m\u001b[43m,\u001b[49m\n\u001b[0;32m   1265\u001b[0m \u001b[43m    \u001b[49m\u001b[43mpassword\u001b[49m\u001b[38;5;241;43m=\u001b[39;49m\u001b[38;5;28;43;01mFalse\u001b[39;49;00m\u001b[43m,\u001b[49m\n\u001b[0;32m   1266\u001b[0m \u001b[43m\u001b[49m\u001b[43m)\u001b[49m\n",
      "File \u001b[1;32m~\\AppData\\Roaming\\Python\\Python312\\site-packages\\ipykernel\\kernelbase.py:1304\u001b[0m, in \u001b[0;36mKernel._input_request\u001b[1;34m(self, prompt, ident, parent, password)\u001b[0m\n\u001b[0;32m   1301\u001b[0m \u001b[38;5;28;01mexcept\u001b[39;00m \u001b[38;5;167;01mKeyboardInterrupt\u001b[39;00m:\n\u001b[0;32m   1302\u001b[0m     \u001b[38;5;66;03m# re-raise KeyboardInterrupt, to truncate traceback\u001b[39;00m\n\u001b[0;32m   1303\u001b[0m     msg \u001b[38;5;241m=\u001b[39m \u001b[38;5;124m\"\u001b[39m\u001b[38;5;124mInterrupted by user\u001b[39m\u001b[38;5;124m\"\u001b[39m\n\u001b[1;32m-> 1304\u001b[0m     \u001b[38;5;28;01mraise\u001b[39;00m \u001b[38;5;167;01mKeyboardInterrupt\u001b[39;00m(msg) \u001b[38;5;28;01mfrom\u001b[39;00m \u001b[38;5;28;01mNone\u001b[39;00m\n\u001b[0;32m   1305\u001b[0m \u001b[38;5;28;01mexcept\u001b[39;00m \u001b[38;5;167;01mException\u001b[39;00m:\n\u001b[0;32m   1306\u001b[0m     \u001b[38;5;28mself\u001b[39m\u001b[38;5;241m.\u001b[39mlog\u001b[38;5;241m.\u001b[39mwarning(\u001b[38;5;124m\"\u001b[39m\u001b[38;5;124mInvalid Message:\u001b[39m\u001b[38;5;124m\"\u001b[39m, exc_info\u001b[38;5;241m=\u001b[39m\u001b[38;5;28;01mTrue\u001b[39;00m)\n",
      "\u001b[1;31mKeyboardInterrupt\u001b[0m: Interrupted by user"
     ]
    }
   ],
   "source": [
    "\n",
    "###############################################################################\n",
    "# Ubicacion de la palabra (eje X, eje Y, direccion de la palabra)\n",
    "###############################################################################\n",
    "while True:\n",
    "    x_coordenates = int(input(\"Coordenada del eje vertical para colocar la primera letra:\"))\n",
    "    if x_coordenates > 14:\n",
    "        print('Error: introduce una cordenada entre el 0 o el 14')\n",
    "    else:\n",
    "        break\n",
    "\n",
    "while True:\n",
    "    y_coordenates = int(input(\"Coordenadas del eje horizontal para colocar la primera letra: \"))\n",
    "    if y_coordenates > 14:\n",
    "        print('Error: introduce una cordenada entre el 0 o el 14')\n",
    "    else:\n",
    "        break\n",
    "\n",
    "while True:\n",
    "    my_direction = input(\"Direccion de la palabra 'V' (vertical) o 'H' (Horizontal):\").upper()\n",
    "    if my_direction not in 'VH':\n",
    "        print('Error: introduce V para vertical o H para horizontal')\n",
    "    else:\n",
    "        break"
   ]
  },
  {
   "cell_type": "markdown",
   "metadata": {},
   "source": [
    "### Comprueba que se cumplen las normas para ubicar la palabra en el tablero"
   ]
  },
  {
   "cell_type": "code",
   "execution_count": null,
   "metadata": {},
   "outputs": [],
   "source": [
    "\n",
    "###############################################################################\n",
    "# Valida que el jugador tiene las fichas necesarias para formar la palabra.\n",
    "###############################################################################\n",
    "missing_pawns = board.getPawns(\n",
    "                            word=my_word.word[0],\n",
    "                            cord_x= x_coordenates,\n",
    "                            cord_y=y_coordenates,\n",
    "                            direction=my_direction\n",
    "                            )\n",
    "\n",
    "t_missing_pawn = 'Te faltan fichas para completar tu palabra en el tablero'\n",
    "assert FrecuencyTable.isSubset(missing_pawns.word, my_pawns), t_missing_pawn\n",
    "\n",
    "\n",
    "###############################################################################\n",
    "#Verifica que se cumple las reglas del juego\n",
    "###############################################################################\n",
    "check_rules = board.isPossible(word = Pawns.getTotalPawns(my_word), \n",
    "                                cord_x = x_coordenates, \n",
    "                                cord_y = y_coordenates, \n",
    "                                direction = my_direction)\n",
    "\n",
    "# Si cumple con las reglas dibuja la palabra en el tablero\n",
    "if check_rules[0] == True:\n",
    "    #Colaca la palabra en el tablero\n",
    "    board.placeWord(player_pawns = my_pawns,\n",
    "                place_word = Pawns.getTotalPawns(my_word),\n",
    "                cord_x = x_coordenates, \n",
    "                cord_y = y_coordenates, \n",
    "                direction = my_direction)\n",
    "    \n",
    "    board.showBoard()\n",
    "\n",
    "#Si no cumple no muestra la palabra en el juego    \n",
    "else:\n",
    "    print(check_rules[1])"
   ]
  },
  {
   "cell_type": "code",
   "execution_count": 16,
   "metadata": {},
   "outputs": [
    {
     "name": "stdout",
     "output_type": "stream",
     "text": [
      "·Vertical:5, Horizontal:7, Direction:'V'\n",
      "·Vertical:6, Horizontal:7, Direction:'V'\n",
      "·Vertical:7, Horizontal:7, Direction:'V'\n",
      "·Vertical:7, Horizontal:5, Direction:'H'\n",
      "·Vertical:7, Horizontal:6, Direction:'H'\n",
      "·Vertical:7, Horizontal:7, Direction:'H'\n",
      "SUR\n"
     ]
    }
   ],
   "source": [
    "def isPossible(word, cord_x, cord_y, direction):                           \n",
    "    # La primera palabra debe tener al menos una ficha situada en la casilla centra.\n",
    "    if direction == \"H\" and cord_x == 7 and 7 in range(cord_y, cord_y + len(word)):\n",
    "        #print(f\"x:{cord_x}, y:{cord_y}, dir:{direction}, TRUE\")\n",
    "        message = \"Ha sido posible colocar la palabra en el tablero\"\n",
    "        return (True, message)\n",
    "    elif direction == \"V\" and cord_y == 7 and 7 in range(cord_x, cord_x + len(word)):\n",
    "        #print(f\"x:{cord_x}, y:{cord_y}, dir:{direction}, TRUE\")\n",
    "        message = \"Ha sido posible colocar la palabra en el tablero\"\n",
    "        return (True, message)\n",
    "    else:\n",
    "        #print(f\"x:{cord_x}, y:{cord_y}, dir:{direction}, FALSE\")    \n",
    "        message = \"La primera palabra debe tener al menos una ficha en la casilla central (7, 7)\"\n",
    "        return(False, message)\n",
    "        \n",
    "word = my_word.word[0]\n",
    "\n",
    "for direction in (0, 1):\n",
    "            for cord_x in range(0, 15):\n",
    "                for cord_y in range(0,15):\n",
    "                    if direction == 0:\n",
    "                        checking = isPossible(word, cord_x, cord_y, \"V\")\n",
    "                        #print(f\"x:{cord_x}, y:{cord_y}, dir:{direction}, {checking}\")\n",
    "                        if checking[0]:\n",
    "                            print(f\"·Vertical:{cord_x}, Horizontal:{cord_y}, Direction:'V'\")\n",
    "                            \n",
    "                    else:\n",
    "                        checking = isPossible(word, cord_x, cord_y, \"H\")\n",
    "                        #print(f\"x:{cord_x}, y:{cord_y}, dir:{direction}, {checking}\")\n",
    "                        if checking[0]:\n",
    "                            print(f\"·Vertical:{cord_x}, Horizontal:{cord_y}, Direction:'H'\")\n",
    "\n",
    "print(my_word.word[0])"
   ]
  }
 ],
 "metadata": {
  "kernelspec": {
   "display_name": "Python 3",
   "language": "python",
   "name": "python3"
  },
  "language_info": {
   "codemirror_mode": {
    "name": "ipython",
    "version": 3
   },
   "file_extension": ".py",
   "mimetype": "text/x-python",
   "name": "python",
   "nbconvert_exporter": "python",
   "pygments_lexer": "ipython3",
   "version": "3.12.1"
  }
 },
 "nbformat": 4,
 "nbformat_minor": 2
}
