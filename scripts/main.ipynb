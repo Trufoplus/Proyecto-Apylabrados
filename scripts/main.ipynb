{
 "cells": [
  {
   "cell_type": "markdown",
   "metadata": {},
   "source": [
    "### Crear una bolsa de fichas y visualizar las fichas dentro de la bolsa"
   ]
  },
  {
   "cell_type": "code",
   "execution_count": 1,
   "metadata": {},
   "outputs": [
    {
     "name": "stdout",
     "output_type": "stream",
     "text": [
      "Numero total de fichas: 100\n",
      "{'A': 12, 'B': 2, 'C': 4, 'D': 5, 'E': 12, 'F': 2, 'G': 2, 'H': 2, 'I': 6, 'J': 1, 'K': 1, 'L': 4, 'M': 3, 'N': 5, 'O': 9, 'P': 2, 'Q': 1, 'R': 5, 'S': 7, 'T': 4, 'U': 6, 'V': 1, 'W': 1, 'X': 1, 'Y': 1, 'Z': 1}\n"
     ]
    }
   ],
   "source": [
    "from ApylabradosModule import Pawns, Dictionary\n",
    "\n",
    "bag_of_pawns = Pawns()\n",
    "bag_of_pawns.createBag()\n",
    "bag_of_pawns.showPawns()"
   ]
  },
  {
   "cell_type": "markdown",
   "metadata": {},
   "source": [
    "### Agarra 7 fichas aleatorias de la bolsa"
   ]
  },
  {
   "cell_type": "code",
   "execution_count": 2,
   "metadata": {},
   "outputs": [
    {
     "name": "stdout",
     "output_type": "stream",
     "text": [
      "Fichas en la bolsa:\n",
      "Numero total de fichas: 93\n",
      "{'A': 11, 'B': 1, 'C': 4, 'D': 5, 'E': 10, 'F': 2, 'G': 2, 'H': 2, 'I': 6, 'J': 1, 'K': 1, 'L': 4, 'M': 3, 'N': 5, 'O': 9, 'P': 2, 'Q': 1, 'R': 5, 'S': 6, 'T': 3, 'U': 6, 'V': 1, 'X': 1, 'Y': 1, 'Z': 1}\n",
      "\n",
      "Fichas del jugador: \n",
      "Numero total de fichas: 7\n",
      "{'A': 1, 'E': 2, 'B': 1, 'S': 1, 'W': 1, 'T': 1}\n"
     ]
    }
   ],
   "source": [
    "player_pawns = Pawns()\n",
    "for pawn in range(7):\n",
    "    player_pawn = bag_of_pawns.takeRandomPawn()\n",
    "    player_pawns.addPawn(player_pawn)\n",
    "    \n",
    "print(\"Fichas en la bolsa:\")\n",
    "bag_of_pawns.showPawns()\n",
    "\n",
    "print(\"\\nFichas del jugador: \")\n",
    "player_pawns.showPawns()   "
   ]
  },
  {
   "cell_type": "markdown",
   "metadata": {},
   "source": [
    "## CREA UNA PALABRA"
   ]
  },
  {
   "cell_type": "code",
   "execution_count": 3,
   "metadata": {},
   "outputs": [
    {
     "data": {
      "text/plain": [
       "False"
      ]
     },
     "execution_count": 3,
     "metadata": {},
     "output_type": "execute_result"
    }
   ],
   "source": [
    "my_dictionary = Dictionary()\n",
    "\n",
    "my_dictionary.validateWord(\"caca\")"
   ]
  }
 ],
 "metadata": {
  "kernelspec": {
   "display_name": "Python 3",
   "language": "python",
   "name": "python3"
  },
  "language_info": {
   "codemirror_mode": {
    "name": "ipython",
    "version": 3
   },
   "file_extension": ".py",
   "mimetype": "text/x-python",
   "name": "python",
   "nbconvert_exporter": "python",
   "pygments_lexer": "ipython3",
   "version": "3.12.1"
  }
 },
 "nbformat": 4,
 "nbformat_minor": 2
}
